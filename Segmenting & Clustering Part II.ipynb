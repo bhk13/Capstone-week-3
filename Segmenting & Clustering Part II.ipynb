{
    "nbformat_minor": 2, 
    "cells": [
        {
            "source": "# Segmenting and Clustering Toronto(canada) Neighborhoods", 
            "cell_type": "markdown", 
            "metadata": {}
        }, 
        {
            "source": "### Import the necessary libraries", 
            "cell_type": "markdown", 
            "metadata": {}
        }, 
        {
            "source": "from bs4 import BeautifulSoup\nimport requests\nimport csv\n\nimport pandas as pd\nimport numpy as np", 
            "cell_type": "code", 
            "execution_count": 1, 
            "outputs": [], 
            "metadata": {}
        }, 
        {
            "source": "## Get the html from the wikipedia page with the postal codes of Canada", 
            "cell_type": "markdown", 
            "metadata": {}
        }, 
        {
            "source": "source = requests.get('https://en.wikipedia.org/wiki/List_of_postal_codes_of_Canada:_M').text\n\nsoup = BeautifulSoup(source, 'lxml')", 
            "cell_type": "code", 
            "execution_count": 2, 
            "outputs": [], 
            "metadata": {}
        }, 
        {
            "source": "Now that we have the html, we need to find the table in it.", 
            "cell_type": "markdown", 
            "metadata": {}
        }, 
        {
            "source": "table = soup.find('table')", 
            "cell_type": "code", 
            "execution_count": 3, 
            "outputs": [], 
            "metadata": {}
        }, 
        {
            "source": "Also, we need to create the csv file in which we will save the necessary data", 
            "cell_type": "markdown", 
            "metadata": {}
        }, 
        {
            "source": "csv_file = open('csv_toronto_neighbourhood.csv', 'w')\ncsv_writer = csv.writer(csv_file)", 
            "cell_type": "code", 
            "execution_count": 4, 
            "outputs": [], 
            "metadata": {}
        }, 
        {
            "source": "## Write the header in the csv file", 
            "cell_type": "markdown", 
            "metadata": {}
        }, 
        {
            "source": "row = []\n\nfor th in table.find_all('th'):\n    row_value = th.text.rstrip()\n    \n    row.append(row_value)\nprint(row)\ncsv_writer.writerow(row)", 
            "cell_type": "code", 
            "execution_count": 5, 
            "outputs": [
                {
                    "output_type": "stream", 
                    "name": "stdout", 
                    "text": "['Postcode', 'Borough', 'Neighbourhood']\n"
                }, 
                {
                    "output_type": "execute_result", 
                    "metadata": {}, 
                    "data": {
                        "text/plain": "32"
                    }, 
                    "execution_count": 5
                }
            ], 
            "metadata": {}
        }, 
        {
            "source": "## Write all the data on the csv file", 
            "cell_type": "markdown", 
            "metadata": {}
        }, 
        {
            "source": "It's important to remove the data with no Borough assigned and write the Borough name if no neighbourhood is assigned", 
            "cell_type": "markdown", 
            "metadata": {}
        }, 
        {
            "source": "for tr in table.find_all('tr'):\n    i=0\n    row=[]\n    discard = False\n    postalCode = None\n    borough = None\n    neighbourhood = None\n    for td in tr.find_all('td'):\n        if i==0:\n            postalCode = td.text.rstrip()\n        elif i==1:\n            if (td.text.rstrip() == 'Not assigned'):\n                discard = True\n            else:\n                borough = td.text.rstrip()\n        else:\n            i=0\n            if (td.text.rstrip() == 'Not assigned'):\n                neighbourhood = borough\n            else:\n                neighbourhood = td.text.rstrip()\n        i=i+1\n    if (discard == False):\n        row.append(postalCode)\n        row.append(borough)\n        row.append(neighbourhood)\n        csv_writer.writerow(row)\n        #print(row)\n        \n        ", 
            "cell_type": "code", 
            "execution_count": 6, 
            "outputs": [], 
            "metadata": {}
        }, 
        {
            "source": "csv_file.close()", 
            "cell_type": "code", 
            "execution_count": 7, 
            "outputs": [], 
            "metadata": {}
        }, 
        {
            "source": "## Open the new csv file", 
            "cell_type": "markdown", 
            "metadata": {}
        }, 
        {
            "source": "df = pd.read_csv('csv_toronto_neighbourhood.csv')\ndf.head()", 
            "cell_type": "code", 
            "execution_count": 8, 
            "outputs": [
                {
                    "output_type": "execute_result", 
                    "metadata": {}, 
                    "data": {
                        "text/html": "<div>\n<style scoped>\n    .dataframe tbody tr th:only-of-type {\n        vertical-align: middle;\n    }\n\n    .dataframe tbody tr th {\n        vertical-align: top;\n    }\n\n    .dataframe thead th {\n        text-align: right;\n    }\n</style>\n<table border=\"1\" class=\"dataframe\">\n  <thead>\n    <tr style=\"text-align: right;\">\n      <th></th>\n      <th>Postcode</th>\n      <th>Borough</th>\n      <th>Neighbourhood</th>\n    </tr>\n  </thead>\n  <tbody>\n    <tr>\n      <th>0</th>\n      <td>NaN</td>\n      <td>NaN</td>\n      <td>NaN</td>\n    </tr>\n    <tr>\n      <th>1</th>\n      <td>M3A</td>\n      <td>North York</td>\n      <td>Parkwoods</td>\n    </tr>\n    <tr>\n      <th>2</th>\n      <td>M4A</td>\n      <td>North York</td>\n      <td>Victoria Village</td>\n    </tr>\n    <tr>\n      <th>3</th>\n      <td>M5A</td>\n      <td>Downtown Toronto</td>\n      <td>Harbourfront</td>\n    </tr>\n    <tr>\n      <th>4</th>\n      <td>M5A</td>\n      <td>Downtown Toronto</td>\n      <td>Regent Park</td>\n    </tr>\n  </tbody>\n</table>\n</div>", 
                        "text/plain": "  Postcode           Borough     Neighbourhood\n0      NaN               NaN               NaN\n1      M3A        North York         Parkwoods\n2      M4A        North York  Victoria Village\n3      M5A  Downtown Toronto      Harbourfront\n4      M5A  Downtown Toronto       Regent Park"
                    }, 
                    "execution_count": 8
                }
            ], 
            "metadata": {}
        }, 
        {
            "source": "df.shape", 
            "cell_type": "code", 
            "execution_count": 9, 
            "outputs": [
                {
                    "output_type": "execute_result", 
                    "metadata": {}, 
                    "data": {
                        "text/plain": "(212, 3)"
                    }, 
                    "execution_count": 9
                }
            ], 
            "metadata": {}
        }, 
        {
            "source": "## Group Neighbourhoods with the same Postcode", 
            "cell_type": "markdown", 
            "metadata": {}
        }, 
        {
            "source": "df_mod = df.groupby(['Postcode', 'Borough'])['Neighbourhood'].apply(lambda x: \"%s\" % ', '.join(x))\ndf_mod = df_mod.reset_index()\ndf_mod.head()", 
            "cell_type": "code", 
            "execution_count": 10, 
            "outputs": [
                {
                    "output_type": "execute_result", 
                    "metadata": {}, 
                    "data": {
                        "text/html": "<div>\n<style scoped>\n    .dataframe tbody tr th:only-of-type {\n        vertical-align: middle;\n    }\n\n    .dataframe tbody tr th {\n        vertical-align: top;\n    }\n\n    .dataframe thead th {\n        text-align: right;\n    }\n</style>\n<table border=\"1\" class=\"dataframe\">\n  <thead>\n    <tr style=\"text-align: right;\">\n      <th></th>\n      <th>Postcode</th>\n      <th>Borough</th>\n      <th>Neighbourhood</th>\n    </tr>\n  </thead>\n  <tbody>\n    <tr>\n      <th>0</th>\n      <td>M1B</td>\n      <td>Scarborough</td>\n      <td>Rouge, Malvern</td>\n    </tr>\n    <tr>\n      <th>1</th>\n      <td>M1C</td>\n      <td>Scarborough</td>\n      <td>Highland Creek, Rouge Hill, Port Union</td>\n    </tr>\n    <tr>\n      <th>2</th>\n      <td>M1E</td>\n      <td>Scarborough</td>\n      <td>Guildwood, Morningside, West Hill</td>\n    </tr>\n    <tr>\n      <th>3</th>\n      <td>M1G</td>\n      <td>Scarborough</td>\n      <td>Woburn</td>\n    </tr>\n    <tr>\n      <th>4</th>\n      <td>M1H</td>\n      <td>Scarborough</td>\n      <td>Cedarbrae</td>\n    </tr>\n  </tbody>\n</table>\n</div>", 
                        "text/plain": "  Postcode      Borough                           Neighbourhood\n0      M1B  Scarborough                          Rouge, Malvern\n1      M1C  Scarborough  Highland Creek, Rouge Hill, Port Union\n2      M1E  Scarborough       Guildwood, Morningside, West Hill\n3      M1G  Scarborough                                  Woburn\n4      M1H  Scarborough                               Cedarbrae"
                    }, 
                    "execution_count": 10
                }
            ], 
            "metadata": {}
        }, 
        {
            "source": "df_mod.shape", 
            "cell_type": "code", 
            "execution_count": 11, 
            "outputs": [
                {
                    "output_type": "execute_result", 
                    "metadata": {}, 
                    "data": {
                        "text/plain": "(103, 3)"
                    }, 
                    "execution_count": 11
                }
            ], 
            "metadata": {}
        }
    ], 
    "nbformat": 4, 
    "metadata": {
        "kernelspec": {
            "display_name": "Python 3.6", 
            "name": "python3", 
            "language": "python"
        }, 
        "language_info": {
            "mimetype": "text/x-python", 
            "nbconvert_exporter": "python", 
            "version": "3.6.8", 
            "name": "python", 
            "pygments_lexer": "ipython3", 
            "file_extension": ".py", 
            "codemirror_mode": {
                "version": 3, 
                "name": "ipython"
            }
        }
    }
}